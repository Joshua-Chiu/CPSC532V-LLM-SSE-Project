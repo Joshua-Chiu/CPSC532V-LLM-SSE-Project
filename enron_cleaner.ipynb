{
  "cells": [
    {
      "cell_type": "code",
      "execution_count": 1,
      "metadata": {
        "id": "BFPrZ8YQmYRT"
      },
      "outputs": [],
      "source": [
        "import numpy as np\n",
        "import pandas as pd\n",
        "import os, gc, re"
      ]
    },
    {
      "cell_type": "code",
      "execution_count": null,
      "metadata": {},
      "outputs": [
        {
          "name": "stdout",
          "output_type": "stream",
          "text": [
            "  % Total    % Received % Xferd  Average Speed   Time    Time     Time  Current\n",
            "                                 Dload  Upload   Total   Spent    Left  Speed\n",
            "  0     0    0     0    0     0      0      0 --:--:-- --:--:-- --:--:--     0\n",
            "100  357M  100  357M    0     0  96.3M      0  0:00:03  0:00:03 --:--:--  108M\n",
            "Archive:  /ubc/ece/home/so/grads/joshchiu/sse/llm/workspace/enron-email-dataset.zip\n",
            "  inflating: /ubc/ece/home/so/grads/joshchiu/sse/llm/workspace/emails.csv/emails.csv  \n"
          ]
        }
      ],
      "source": [
        "! curl -L -o ~/sse/llm/workspace/enron-email-dataset.zip \\\n",
        "  https://www.kaggle.com/api/v1/datasets/download/wcukierski/enron-email-dataset\n",
        "! unzip -o ~/sse/llm/workspace/enron-email-dataset.zip -d ~/sse/llm/workspace/\n"
      ]
    },
    {
      "cell_type": "code",
      "execution_count": 2,
      "metadata": {
        "colab": {
          "base_uri": "https://localhost:8080/",
          "height": 206
        },
        "id": "IRGJ6EgYnhiN",
        "outputId": "aba73fa4-a56a-414f-846d-e2e21295c797"
      },
      "outputs": [
        {
          "data": {
            "text/html": [
              "<div>\n",
              "<style scoped>\n",
              "    .dataframe tbody tr th:only-of-type {\n",
              "        vertical-align: middle;\n",
              "    }\n",
              "\n",
              "    .dataframe tbody tr th {\n",
              "        vertical-align: top;\n",
              "    }\n",
              "\n",
              "    .dataframe thead th {\n",
              "        text-align: right;\n",
              "    }\n",
              "</style>\n",
              "<table border=\"1\" class=\"dataframe\">\n",
              "  <thead>\n",
              "    <tr style=\"text-align: right;\">\n",
              "      <th></th>\n",
              "      <th>file</th>\n",
              "      <th>message</th>\n",
              "    </tr>\n",
              "  </thead>\n",
              "  <tbody>\n",
              "    <tr>\n",
              "      <th>0</th>\n",
              "      <td>allen-p/_sent_mail/1.</td>\n",
              "      <td>Message-ID: &lt;18782981.1075855378110.JavaMail.e...</td>\n",
              "    </tr>\n",
              "    <tr>\n",
              "      <th>1</th>\n",
              "      <td>allen-p/_sent_mail/10.</td>\n",
              "      <td>Message-ID: &lt;15464986.1075855378456.JavaMail.e...</td>\n",
              "    </tr>\n",
              "    <tr>\n",
              "      <th>2</th>\n",
              "      <td>allen-p/_sent_mail/100.</td>\n",
              "      <td>Message-ID: &lt;24216240.1075855687451.JavaMail.e...</td>\n",
              "    </tr>\n",
              "    <tr>\n",
              "      <th>3</th>\n",
              "      <td>allen-p/_sent_mail/1000.</td>\n",
              "      <td>Message-ID: &lt;13505866.1075863688222.JavaMail.e...</td>\n",
              "    </tr>\n",
              "    <tr>\n",
              "      <th>4</th>\n",
              "      <td>allen-p/_sent_mail/1001.</td>\n",
              "      <td>Message-ID: &lt;30922949.1075863688243.JavaMail.e...</td>\n",
              "    </tr>\n",
              "  </tbody>\n",
              "</table>\n",
              "</div>"
            ],
            "text/plain": [
              "                       file                                            message\n",
              "0     allen-p/_sent_mail/1.  Message-ID: <18782981.1075855378110.JavaMail.e...\n",
              "1    allen-p/_sent_mail/10.  Message-ID: <15464986.1075855378456.JavaMail.e...\n",
              "2   allen-p/_sent_mail/100.  Message-ID: <24216240.1075855687451.JavaMail.e...\n",
              "3  allen-p/_sent_mail/1000.  Message-ID: <13505866.1075863688222.JavaMail.e...\n",
              "4  allen-p/_sent_mail/1001.  Message-ID: <30922949.1075863688243.JavaMail.e..."
            ]
          },
          "execution_count": 2,
          "metadata": {},
          "output_type": "execute_result"
        }
      ],
      "source": [
        "df = pd.read_csv('workspace/emails.csv')\n",
        "df.head(5)"
      ]
    },
    {
      "cell_type": "code",
      "execution_count": 8,
      "metadata": {
        "colab": {
          "base_uri": "https://localhost:8080/"
        },
        "id": "RUolaPQxorrN",
        "outputId": "bc2ac0ff-a2d0-45f2-a727-730f04f6ff88"
      },
      "outputs": [
        {
          "data": {
            "text/plain": [
              "517401"
            ]
          },
          "execution_count": 8,
          "metadata": {},
          "output_type": "execute_result"
        }
      ],
      "source": [
        "len(df)"
      ]
    },
    {
      "cell_type": "code",
      "execution_count": 9,
      "metadata": {
        "colab": {
          "base_uri": "https://localhost:8080/",
          "height": 210
        },
        "id": "c11XKT8FnHFR",
        "outputId": "38fb6b69-01e5-410d-fea3-46baa6e78430"
      },
      "outputs": [
        {
          "data": {
            "text/plain": [
              "num_info\n",
              "18    517398\n",
              "5          2\n",
              "6          1\n",
              "Name: count, dtype: int64"
            ]
          },
          "execution_count": 9,
          "metadata": {},
          "output_type": "execute_result"
        }
      ],
      "source": [
        "def info_part(i):\n",
        "    \"\"\"split infomation part out\"\"\"\n",
        "    return i.split('\\n\\n', 1)[0]\n",
        "def content_part(i):\n",
        "    \"\"\"split content part out\"\"\"\n",
        "    return i.split('\\n\\n', 1)[1]\n",
        "df['pre_info'] = df.message.map(info_part)\n",
        "df['content'] = df.message.map(content_part)\n",
        "df['test_true'] = True\n",
        "\n",
        "words2split = ['Message-ID: ', 'Date: ', 'From: ', 'To: ', 'Subject: ', 'Cc: ', 'Mime-Version: ', 'Content-Type: ',\n",
        "               'Content-Transfer-Encoding: ', 'Bcc: ', 'X-From: ', 'X-To: ', 'X-cc: ', 'X-bcc: ', 'X-Folder: ', 'X-Origin: ',\n",
        "               'X-FileName: ']\n",
        "features_naming = [i[:-2] for i in words2split]\n",
        "split_condition = '|'.join(words2split)\n",
        "\n",
        "# Some emails' subject confuse the string-spliting function, so I make a little change\n",
        "def duplicated_info(i):\n",
        "    return i.replace(' Date: ', ' Date- ').replace(' Subject: ', ' Subject2: ').replace(' To: ',\n",
        "                    ' To- ').replace(' (Subject: ', ' (Subject- ')\n",
        "df['pre_info'] = df['pre_info'].map(duplicated_info)\n",
        "\n",
        "# let's check how many categories are there in these emails\n",
        "def num_part(i):\n",
        "    return len(re.split(split_condition, i))\n",
        "df['num_info'] = df['pre_info'].map(num_part)\n",
        "\n",
        "# around 20k emails do not have the 'To: ' category, so I add one\n",
        "def add_to(i):\n",
        "    return i.replace('\\nSubject: ', '\\nTo: \\nSubject: ')\n",
        "temp_condition = (df['num_info'] == 17) | (df['num_info'] == 15)\n",
        "df.loc[temp_condition, 'pre_info'] = df.loc[temp_condition, 'pre_info'].map(add_to)\n",
        "\n",
        "\n",
        "# similar way to deal with the \"Cc:\" and \"Bcc:\" categories\n",
        "temp_condition = (df['num_info'] == 16) | (df['num_info'] == 15)\n",
        "def add_bcc(i):\n",
        "    return i.replace('\\nX-From: ', '\\nBcc: \\nX-From: ')\n",
        "\n",
        "df.loc[temp_condition, 'pre_info'] = df.loc[temp_condition, 'pre_info'].map(add_bcc)\n",
        "def add_cc(i):\n",
        "    return i.replace('\\nMime-Version: ', '\\nCc: \\nMime-Version: ')\n",
        "df.loc[temp_condition, 'pre_info'] = df.loc[temp_condition, 'pre_info'].map(add_cc)\n",
        "\n",
        "df['num_info'] = df['pre_info'].map(num_part)\n",
        "df['num_info'].value_counts()\n",
        "\n",
        "df['num_info'] = df['pre_info'].map(num_part)\n",
        "df['num_info'].value_counts()\n"
      ]
    },
    {
      "cell_type": "code",
      "execution_count": 10,
      "metadata": {
        "id": "jgrrV0X8nTbE"
      },
      "outputs": [],
      "source": [
        "global feature_idx\n",
        "\n",
        "def info_split(i):\n",
        "    # Split the i th part out and remove \\n for the feature\n",
        "    split_results = re.split(split_condition, i)\n",
        "    if len(split_results) > feature_idx + 1:\n",
        "        return split_results[feature_idx + 1][:-2]\n",
        "    else:\n",
        "        return None\n",
        "\n",
        "def info_split_last(i):\n",
        "    # No need to remove \\n for the last category -- X-FileName\n",
        "    split_results = re.split(split_condition, i)\n",
        "    if len(split_results) > feature_idx + 1:\n",
        "        return split_results[feature_idx + 1]\n",
        "    else:\n",
        "        return None\n",
        "\n",
        "# Loop through each feature index\n",
        "for feature_idx in range(len(words2split)):\n",
        "    if feature_idx != len(words2split) - 1:\n",
        "        df[features_naming[feature_idx]] = df['pre_info'].map(info_split)\n",
        "    else:\n",
        "        df[features_naming[feature_idx]] = df['pre_info'].map(info_split_last)\n",
        "\n",
        "df['Content-Transfer-Encoding'].value_counts()\n",
        "\n",
        "df_remove2 = df.loc[df['Content-Transfer-Encoding'] == 'text/plain; charset=us-asci']\n",
        "df = df.loc[df['Content-Transfer-Encoding'] != 'text/plain; charset=us-asci']\n",
        "\n",
        "df.loc[df[\"content\"].str.contains(\"-------------\"), \"content\"]\n",
        "\n",
        "def split_other_content(i):\n",
        "    \"\"\"split other forms of contents out\"\"\"\n",
        "    return i.split('-------------', 1)[0]\n",
        "df[\"has_other_content\"] = df[\"content\"].str.contains(\"-------------\")\n",
        "df[\"if_forwarded\"] = df[\"content\"].str.contains(\"------------- Forwarded\")\n",
        "df['content'] = df.content.map(split_other_content)\n",
        "\n",
        "df = df.drop(['pre_info','test_true', 'num_info'], axis = 1).set_index(\"file\")\n",
        "df.to_csv(\"emails_cleaned.csv\")"
      ]
    },
    {
      "cell_type": "code",
      "execution_count": 11,
      "metadata": {
        "id": "6B1IHQ_UqONh"
      },
      "outputs": [],
      "source": [
        "df.to_csv('workspace/emails_cleaned.csv')\n"
      ]
    }
  ],
  "metadata": {
    "accelerator": "GPU",
    "colab": {
      "gpuType": "A100",
      "machine_shape": "hm",
      "provenance": []
    },
    "kernelspec": {
      "display_name": "venv",
      "language": "python",
      "name": "python3"
    },
    "language_info": {
      "codemirror_mode": {
        "name": "ipython",
        "version": 3
      },
      "file_extension": ".py",
      "mimetype": "text/x-python",
      "name": "python",
      "nbconvert_exporter": "python",
      "pygments_lexer": "ipython3",
      "version": "3.10.12"
    }
  },
  "nbformat": 4,
  "nbformat_minor": 0
}
