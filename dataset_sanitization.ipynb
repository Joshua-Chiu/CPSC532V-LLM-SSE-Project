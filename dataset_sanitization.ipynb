{
  "cells": [
    {
      "cell_type": "markdown",
      "metadata": {
        "id": "view-in-github",
        "colab_type": "text"
      },
      "source": [
        "<a href=\"https://colab.research.google.com/github/Joshua-Chiu/CPSC532V-LLM-SSE-Project/blob/master/dataset_sanitization.ipynb\" target=\"_parent\"><img src=\"https://colab.research.google.com/assets/colab-badge.svg\" alt=\"Open In Colab\"/></a>"
      ]
    },
    {
      "cell_type": "code",
      "execution_count": null,
      "metadata": {
        "colab": {
          "base_uri": "https://localhost:8080/"
        },
        "id": "s43FKru78Nil",
        "outputId": "769fbe7e-860a-4ddf-c2bb-010edf6da262"
      },
      "outputs": [
        {
          "name": "stdout",
          "output_type": "stream",
          "text": [
            "Mounted at /content/drive\n"
          ]
        }
      ],
      "source": [
        "# prompt: mount google drive\n",
        "\n",
        "from google.colab import drive\n",
        "drive.mount('/content/drive')\n"
      ]
    },
    {
      "cell_type": "code",
      "execution_count": null,
      "metadata": {
        "colab": {
          "base_uri": "https://localhost:8080/"
        },
        "id": "2NlDO-918b3D",
        "outputId": "f51975ff-f943-4c5f-fcc5-c1647d6b1753"
      },
      "outputs": [
        {
          "name": "stdout",
          "output_type": "stream",
          "text": [
            "Total rows (excluding header): 30237\n"
          ]
        }
      ],
      "source": [
        "import pandas as pd\n",
        "\n",
        "# Path to the CSV file\n",
        "csv_file = \"/content/drive/MyDrive/UBC CS/CPSC 532V Project (NLP_CommonSense)/sent_items.csv\"\n",
        "\n",
        "# Load CSV into a DataFrame\n",
        "df = pd.read_csv(csv_file)\n",
        "\n",
        "# Get number of rows excluding the header\n",
        "row_count = len(df)\n",
        "\n",
        "print(f\"Total rows (excluding header): {row_count}\")\n"
      ]
    },
    {
      "cell_type": "code",
      "source": [
        "# prompt: read from this  \"/content/drive/MyDrive/UBC CS/CPSC 532V Project (NLP_CommonSense)/sent_items.csv\" and for each row in column Content you need to remove the email meta data and keep the original message. the code gets stuck\n",
        "\n",
        "import re\n",
        "\n",
        "def clean_email_metadata(text):\n",
        "    # Regular expression to match email metadata patterns\n",
        "    # Customize this regex if needed for different metadata formats\n",
        "    email_metadata_pattern = r\"^(From|To|Subject|Date|Cc|Bcc):.*\\n\"\n",
        "    cleaned_text = re.sub(email_metadata_pattern, \"\", text, flags=re.MULTILINE)\n",
        "    cleaned_text = cleaned_text.strip()\n",
        "    return cleaned_text\n",
        "\n",
        "# Apply the function to the 'Content' column\n",
        "df['Cleaned_Content'] = df['Content'].apply(clean_email_metadata)\n",
        "\n",
        "# Display the DataFrame with cleaned data (optional)\n",
        "print(df[['Content', 'Cleaned_Content']].head())\n"
      ],
      "metadata": {
        "id": "0lckaeoRznH9"
      },
      "execution_count": null,
      "outputs": []
    },
    {
      "cell_type": "code",
      "source": [],
      "metadata": {
        "id": "cSMgZQfyz5yF"
      },
      "execution_count": null,
      "outputs": []
    }
  ],
  "metadata": {
    "colab": {
      "provenance": [],
      "include_colab_link": true
    },
    "kernelspec": {
      "display_name": "Python 3",
      "name": "python3"
    },
    "language_info": {
      "name": "python"
    }
  },
  "nbformat": 4,
  "nbformat_minor": 0
}